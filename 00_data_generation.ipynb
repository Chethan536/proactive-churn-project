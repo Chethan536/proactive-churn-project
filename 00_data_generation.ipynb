{
 "cells": [
  {
   "cell_type": "markdown",
   "id": "51ee7c09-4292-459b-866c-b30ab00fba43",
   "metadata": {},
   "source": [
    "### Project Problem Statement\n",
    "\n",
    "**Business Problem:** Our subscription service is losing customers (churning), which costs the company money.\n",
    "\n",
    "**Goal:** Build a system that automatically identifies the users **most likely to churn** in the near future.\n",
    "\n",
    "**Action:** This system will provide a prioritized list to the retention team, allowing them to proactively send offers (like discounts) to save these at-risk customers, optimizing their budget and reducing overall churn.\n",
    "\n",
    "### **Phase 1: Setup & Data Generation (The Foundation)**"
   ]
  },
  {
   "cell_type": "markdown",
   "id": "56acbcd5-1231-445a-89ae-ab348e55acda",
   "metadata": {},
   "source": [
    "### **Step 1: Imports and Setup**\n",
    "\n",
    "First, we'll import the necessary libraries and set up our parameters. We'll also create the `data/` directory to store our CSVs."
   ]
  },
  {
   "cell_type": "code",
   "execution_count": 1,
   "id": "0fb8fd9f-b892-4cc8-a4f8-babf213eb292",
   "metadata": {},
   "outputs": [
    {
     "name": "stdout",
     "output_type": "stream",
     "text": [
      "Libraries imported and parameters set.\n"
     ]
    }
   ],
   "source": [
    "import pandas as pd\n",
    "import numpy as np\n",
    "import random\n",
    "from datetime import datetime, timedelta \n",
    "import os\n",
    "\n",
    "# Parameters\n",
    "NUM_USERS = 10000\n",
    "NUM_EVENTS = 500000\n",
    "NUM_TICKETS = 4000\n",
    "START_DATE = datetime(2024, 1, 1)\n",
    "END_DATE = datetime(2025, 10, 18) # Today\n",
    "CHURN_RATE = 0.05 # 5% churn rate\n",
    "\n",
    "if not os.path.exists('data'):\n",
    "    os.makedirs('data')\n",
    "\n",
    "print(\"Libraries imported and parameters set.\")"
   ]
  },
  {
   "cell_type": "markdown",
   "id": "35d76d74-b9c4-4117-91e3-1108acb98e16",
   "metadata": {},
   "source": [
    "### **Step 2: Generate `user_subscriptions.csv`**\n",
    "\n",
    "This creates our main list of users, their subscription plans, and when they signed up. We will also pre-determine who our \"churners\" will be so we can make their activity data look different."
   ]
  },
  {
   "cell_type": "code",
   "execution_count": 8,
   "id": "7cf56641-bfe3-4022-b6d9-01d03bbd802d",
   "metadata": {},
   "outputs": [
    {
     "name": "stdout",
     "output_type": "stream",
     "text": [
      "Generated data/user_subscriptions.csv with 10000 users.\n",
      "   user_id plan_type billing_cycle signup_date  is_churner\n",
      "0        1     Basic        Annual  2024-08-25       False\n",
      "1        2     Basic       Monthly  2024-12-23       False\n",
      "2        3     Basic       Monthly  2024-11-11       False\n",
      "3        4     Basic        Annual  2024-11-22       False\n",
      "4        5     Basic        Annual  2024-08-01       False\n"
     ]
    }
   ],
   "source": [
    "# Create a list of user IDs\n",
    "user_ids = range(1, NUM_USERS+1)\n",
    "\n",
    "# Assign churn status\n",
    "churn_status = np.random.choice([True, False], size=NUM_USERS, p= [CHURN_RATE,1-CHURN_RATE])\n",
    "\n",
    "# Generate User Data\n",
    "\n",
    "users_data = []\n",
    "for user_id in user_ids:\n",
    "    plan = np.random.choice([\"Basic\",\"Premium\",\"Family\"])\n",
    "    billing_cycle = \"Annual\" if plan == \"Family\" else random.choice([\"Monthly\",\"Annual\"])\n",
    "\n",
    "    # signups are spread out over the last year\n",
    "    signup_date = START_DATE + timedelta(days = random.randint(0,365))\n",
    "\n",
    "    users_data.append({\n",
    "        \"user_id\" : user_id,\n",
    "        \"plan_type\" : plan,\n",
    "        \"billing_cycle\" : billing_cycle,\n",
    "        \"signup_date\" : signup_date,\n",
    "        \"is_churner\" : churn_status[user_id - 1]\n",
    "    })\n",
    "                                         \n",
    "\n",
    "# Create DataFrame and save\n",
    "df_users = pd.DataFrame(users_data)\n",
    "df_users.to_csv(\"data/user_subscriptions.csv\", index=False)\n",
    "\n",
    "print(f\"Generated data/user_subscriptions.csv with {len(df_users)} users.\")\n",
    "print(df_users.head()) "
   ]
  },
  {
   "cell_type": "code",
   "execution_count": 16,
   "id": "5190d7c2-9632-4dc5-9d25-a133a61c8300",
   "metadata": {},
   "outputs": [
    {
     "data": {
      "text/plain": [
       "(10000, 5)"
      ]
     },
     "execution_count": 16,
     "metadata": {},
     "output_type": "execute_result"
    }
   ],
   "source": [
    "df_users.shape"
   ]
  },
  {
   "cell_type": "markdown",
   "id": "43ac6fd1-1e78-4d85-8491-b2fea1d0374f",
   "metadata": {},
   "source": [
    "### **Step 3: Generate `user_activity_logs.csv`**\n",
    "\n",
    "This is the most important part. We will generate a large log file.\n",
    "\n",
    "  * **Active users** (`is_churner=False`) will have consistent activity right up to `END_DATE`.\n",
    "  * **Churned users** (`is_churner=True`) will have their activity stop at least 30 days before `END_DATE`.\n",
    "\n",
    "<!-- end list -->\n"
   ]
  },
  {
   "cell_type": "code",
   "execution_count": 9,
   "id": "2c888310-2ae0-42c6-9de2-d1e29042421e",
   "metadata": {},
   "outputs": [
    {
     "name": "stdout",
     "output_type": "stream",
     "text": [
      "Generated data/user_activity_logs.csv with 500000 events.\n",
      "        user_id  timestamp      event_type\n",
      "155673     7791 2024-01-01          search\n",
      "208293     3097 2024-01-01           login\n",
      "40935      7882 2024-01-01           login\n",
      "93732      7402 2024-01-01  profile_update\n",
      "426832     6441 2024-01-01  profile_update\n"
     ]
    }
   ],
   "source": [
    "churn_user_ids = df_users[df_users['is_churner'] == True]['user_id'].tolist()\n",
    "active_user_ids = df_users[df_users['is_churner'] == False]['user_id'].tolist()\n",
    "\n",
    "event_types = ['login', 'played_video', 'search', 'downloaded_offline', 'profile_update']\n",
    "\n",
    "# --- Generate Event Data ---\n",
    "events_data = []\n",
    "\n",
    "# Generate for active users\n",
    "active_events_count = int(NUM_EVENTS * 0.9) # Active users are more active\n",
    "for _ in range(active_events_count):\n",
    "    user_id = random.choice(active_user_ids)\n",
    "    # Active users have events up to today\n",
    "    event_date = START_DATE + timedelta(days=random.randint(0, (END_DATE - START_DATE).days))\n",
    "    events_data.append({\n",
    "        'user_id': user_id,\n",
    "        'timestamp': event_date,\n",
    "        'event_type': random.choice(event_types)\n",
    "    })\n",
    "\n",
    "# Generate for churn users\n",
    "churn_events_count = int(NUM_EVENTS * 0.1) # Churn users are less active\n",
    "for _ in range(churn_events_count):\n",
    "    user_id = random.choice(churn_user_ids)\n",
    "    # Churn users' activity stops at least 30 days ago\n",
    "    churn_end_day = (END_DATE - START_DATE).days - 30\n",
    "    event_date = START_DATE + timedelta(days=random.randint(0, churn_end_day))\n",
    "    events_data.append({\n",
    "        'user_id': user_id,\n",
    "        'timestamp': event_date,\n",
    "        'event_type': random.choice(event_types)\n",
    "    })\n",
    "\n",
    "# Create DataFrame, sort, and save\n",
    "df_events = pd.DataFrame(events_data)\n",
    "df_events = df_events.sort_values(by='timestamp')\n",
    "df_events.to_csv('data/user_activity_logs.csv', index=False)\n",
    "\n",
    "print(f\"Generated data/user_activity_logs.csv with {len(df_events)} events.\")\n",
    "print(df_events.head())"
   ]
  },
  {
   "cell_type": "code",
   "execution_count": 10,
   "id": "8d68a9e0-192e-4ee7-9e98-489588e5d443",
   "metadata": {},
   "outputs": [
    {
     "data": {
      "text/plain": [
       "(500000, 3)"
      ]
     },
     "execution_count": 10,
     "metadata": {},
     "output_type": "execute_result"
    }
   ],
   "source": [
    "df_events.shape"
   ]
  },
  {
   "cell_type": "code",
   "execution_count": 13,
   "id": "dac8803a-371b-4713-b60e-96e7f663396c",
   "metadata": {},
   "outputs": [
    {
     "data": {
      "text/plain": [
       "event_type\n",
       "played_video          100268\n",
       "downloaded_offline    100190\n",
       "login                 100075\n",
       "search                 99975\n",
       "profile_update         99492\n",
       "Name: count, dtype: int64"
      ]
     },
     "execution_count": 13,
     "metadata": {},
     "output_type": "execute_result"
    }
   ],
   "source": [
    "df_events[\"event_type\"].value_counts()"
   ]
  },
  {
   "cell_type": "markdown",
   "id": "6755d194-685a-429b-be42-99f156251e9a",
   "metadata": {},
   "source": [
    "### **Step 4: Generate `customer_support.csv`**\n",
    "\n",
    "Finally, let's create support tickets. We'll make our churners more likely to have \"Billing\" issues, which is a realistic pattern."
   ]
  },
  {
   "cell_type": "code",
   "execution_count": 14,
   "id": "ee57553b-ad14-4c68-9546-ff8956e01ac0",
   "metadata": {},
   "outputs": [
    {
     "name": "stdout",
     "output_type": "stream",
     "text": [
      "Generated data/customer_support.csv with 4000 tickets.\n",
      "   ticket_id  user_id date_opened       issue_type\n",
      "0       1000     8388  2025-08-25   Account Access\n",
      "1       1001     6393  2024-01-19  General Inquiry\n",
      "2       1002     8596  2025-09-19   Account Access\n",
      "3       1003      594  2025-07-24          Billing\n",
      "4       1004     2140  2024-08-31          Billing\n"
     ]
    }
   ],
   "source": [
    "ticket_types = ['Technical', 'Billing', 'Account Access', 'General Inquiry']\n",
    "\n",
    "# Generate Ticket Data \n",
    "tickets_data = []\n",
    "for i in range(NUM_TICKETS):\n",
    "    # Make churners more likely to submit tickets\n",
    "    if random.random() < 0.3: # 30% of tickets come from the 5% of users who churn\n",
    "        user_id = random.choice(churn_user_ids)\n",
    "        issue = random.choices(ticket_types, weights=[0.3, 0.5, 0.1, 0.1], k=1)[0] # Higher chance of billing\n",
    "    else: # 70% of tickets from active users\n",
    "        user_id = random.choice(active_user_ids)\n",
    "        issue = random.choices(ticket_types, weights=[0.4, 0.1, 0.2, 0.3], k=1)[0] # Lower chance of billing\n",
    "\n",
    "    ticket_date = START_DATE + timedelta(days=random.randint(0, (END_DATE - START_DATE).days))\n",
    "    \n",
    "    tickets_data.append({\n",
    "        'ticket_id': 1000 + i,\n",
    "        'user_id': user_id,\n",
    "        'date_opened': ticket_date.date(),\n",
    "        'issue_type': issue\n",
    "    })\n",
    "\n",
    "# Create DataFrame and save\n",
    "df_tickets = pd.DataFrame(tickets_data)\n",
    "df_tickets.to_csv('data/customer_support.csv', index=False)\n",
    "\n",
    "print(f\"Generated data/customer_support.csv with {len(df_tickets)} tickets.\")\n",
    "print(df_tickets.head())"
   ]
  },
  {
   "cell_type": "code",
   "execution_count": 15,
   "id": "891af3d4-51cd-4efe-99a8-4c21ecd4f292",
   "metadata": {},
   "outputs": [
    {
     "data": {
      "text/plain": [
       "(4000, 4)"
      ]
     },
     "execution_count": 15,
     "metadata": {},
     "output_type": "execute_result"
    }
   ],
   "source": [
    "df_tickets.shape"
   ]
  },
  {
   "cell_type": "markdown",
   "id": "d0907c77-319f-47ee-b9c8-0ab18ec9b063",
   "metadata": {},
   "source": [
    "### Phase 1 Summary\n",
    "\n",
    "In this phase, **we** successfully built the entire foundation for our project.\n",
    "1.  **Environment Setup:** We created a professional project structure with a dedicated virtual environment (`venv`) to manage our packages.\n",
    "2.  **Data Simulation:** Instead of using a simple, pre-made file, we wrote a Python script to **simulate a realistic, multi-source company database**.\n",
    "3.  **Data Creation:** We generated three distinct, interconnected datasets (`user_subscriptions.csv`, `user_activity_logs.csv`, and `customer_support.csv`) that mimic how real user data is stored.\n",
    "4.  **Realistic Patterns:** Most importantly, we embedded **realistic business logic** into the data (e.g., churners stop being active and are more likely to have billing issues).\n",
    "\n",
    "***\n"
   ]
  },
  {
   "cell_type": "code",
   "execution_count": null,
   "id": "a36cd9b3-57ee-430c-9866-cc01b21a30f0",
   "metadata": {},
   "outputs": [],
   "source": []
  }
 ],
 "metadata": {
  "kernelspec": {
   "display_name": "Python 3 (ipykernel)",
   "language": "python",
   "name": "python3"
  },
  "language_info": {
   "codemirror_mode": {
    "name": "ipython",
    "version": 3
   },
   "file_extension": ".py",
   "mimetype": "text/x-python",
   "name": "python",
   "nbconvert_exporter": "python",
   "pygments_lexer": "ipython3",
   "version": "3.12.7"
  }
 },
 "nbformat": 4,
 "nbformat_minor": 5
}
