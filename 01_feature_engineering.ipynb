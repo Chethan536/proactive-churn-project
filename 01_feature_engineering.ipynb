{
   "cell_type": "markdown",
   "id": "a5b0e3ea-cf58-4958-94c8-eb6b2755b32b",
   "metadata": {},
   "source": [
    "## **Phase 2: Exploration & Feature Engineering**.\n",
    "\n",
    "This is where we act like data detectives. We'll load the raw data, explore it to find patterns, and then transform it into a single, clean file that a machine learning model can understand.\n",
    "\n",
    "\n",
    "### **Step 1: Imports and Load Data**\n",
    "\n",
    "First, we load the three CSVs we created. We'll use `parse_dates` to make sure our date columns are read correctly."
   ]
  },
  {
   "cell_type": "code",
   "execution_count": 1,
   "id": "9ac4e723-9d21-41d2-8d2c-6f52a7186ad2",
   "metadata": {},
   "outputs": [
    {
     "name": "stdout",
     "output_type": "stream",
     "text": [
      "Data loaded successfully.\n"
     ]
    },
    {
     "data": {
      "text/html": [
       "<div>\n",
       "<style scoped>\n",
       "    .dataframe tbody tr th:only-of-type {\n",
       "        vertical-align: middle;\n",
       "    }\n",
       "\n",
       "    .dataframe tbody tr th {\n",
       "        vertical-align: top;\n",
       "    }\n",
       "\n",
       "    .dataframe thead th {\n",
       "        text-align: right;\n",
       "    }\n",
       "</style>\n",
       "<table border=\"1\" class=\"dataframe\">\n",
       "  <thead>\n",
       "    <tr style=\"text-align: right;\">\n",
       "      <th></th>\n",
       "      <th>user_id</th>\n",
       "      <th>plan_type</th>\n",
       "      <th>billing_cycle</th>\n",
       "      <th>signup_date</th>\n",
       "      <th>is_churner</th>\n",
       "    </tr>\n",
       "  </thead>\n",
       "  <tbody>\n",
       "    <tr>\n",
       "      <th>0</th>\n",
       "      <td>1</td>\n",
       "      <td>Basic</td>\n",
       "      <td>Annual</td>\n",
       "      <td>2024-08-25</td>\n",
       "      <td>False</td>\n",
       "    </tr>\n",
       "    <tr>\n",
       "      <th>1</th>\n",
       "      <td>2</td>\n",
       "      <td>Basic</td>\n",
       "      <td>Monthly</td>\n",
       "      <td>2024-12-23</td>\n",
       "      <td>False</td>\n",
       "    </tr>\n",
       "    <tr>\n",
       "      <th>2</th>\n",
       "      <td>3</td>\n",
       "      <td>Basic</td>\n",
       "      <td>Monthly</td>\n",
       "      <td>2024-11-11</td>\n",
       "      <td>False</td>\n",
       "    </tr>\n",
       "    <tr>\n",
       "      <th>3</th>\n",
       "      <td>4</td>\n",
       "      <td>Basic</td>\n",
       "      <td>Annual</td>\n",
       "      <td>2024-11-22</td>\n",
       "      <td>False</td>\n",
       "    </tr>\n",
       "    <tr>\n",
       "      <th>4</th>\n",
       "      <td>5</td>\n",
       "      <td>Basic</td>\n",
       "      <td>Annual</td>\n",
       "      <td>2024-08-01</td>\n",
       "      <td>False</td>\n",
       "    </tr>\n",
       "  </tbody>\n",
       "</table>\n",
       "</div>"
      ],
      "text/plain": [
       "   user_id plan_type billing_cycle signup_date  is_churner\n",
       "0        1     Basic        Annual  2024-08-25       False\n",
       "1        2     Basic       Monthly  2024-12-23       False\n",
       "2        3     Basic       Monthly  2024-11-11       False\n",
       "3        4     Basic        Annual  2024-11-22       False\n",
       "4        5     Basic        Annual  2024-08-01       False"
      ]
     },
     "execution_count": 1,
     "metadata": {},
     "output_type": "execute_result"
    }
   ],
   "source": [
    "import pandas as pd\n",
    "import numpy as np\n",
    "import seaborn as sns\n",
    "import matplotlib.pyplot as plt\n",
    "\n",
    "# Define \"today\" as the end date of our simulation\n",
    "# This MUST match the END_DATE from the generation notebook\n",
    "TODAY = pd.to_datetime('2025-10-18')\n",
    "\n",
    "# --- Load Data ---\n",
    "df_users = pd.read_csv('data/user_subscriptions.csv', parse_dates=['signup_date'])\n",
    "df_events = pd.read_csv('data/user_activity_logs.csv', parse_dates=['timestamp'])\n",
    "df_tickets = pd.read_csv('data/customer_support.csv', parse_dates=['date_opened'])\n",
    "\n",
    "print(\"Data loaded successfully.\")\n",
    "df_users.head()"
   ]
  },
  {
   "cell_type": "markdown",
   "id": "1fa7f923-ab16-406c-9e98-06dbcfe5d313",
   "metadata": {},
   "source": [
    "### **Step 2: Define Target Variable (Churn)**\n",
    "\n",
    "Our \"ground truth\" for churn was created during data generation. Let's just rename the `is_churner` column to `churn` (our target variable, $y$) to make it clear."
   ]
  },
  {
   "cell_type": "code",
   "execution_count": 2,
   "id": "a2d2b983-fb18-442c-a1f5-ba9b110ab0cf",
   "metadata": {},
   "outputs": [
    {
     "name": "stdout",
     "output_type": "stream",
     "text": [
      "Target variable set as 'churn'.\n",
      "churn\n",
      "False    0.9519\n",
      "True     0.0481\n",
      "Name: proportion, dtype: float64\n"
     ]
    }
   ],
   "source": [
    "df_users = df_users.rename(columns={'is_churner': 'churn'})\n",
    "\n",
    "print(\"Target variable set as 'churn'.\")\n",
    "print(df_users['churn'].value_counts(normalize=True))"
   ]
  },
  {
   "cell_type": "markdown",
   "id": "036483fe-157e-465b-aa74-6cadf18b2db3",
   "metadata": {},
   "source": [
    "### **Step 3: Feature Engineering**\n",
    "\n",
    "Now, we'll create new features (our model's predictors, $X$) by combining our data sources. Our goal is to create **one single row for every user**.\n"
   ]
  },
  {
   "cell_type": "code",
   "execution_count": 3,
   "id": "a83a4433-9be0-4bfd-aa7d-26169d0151b8",
   "metadata": {},
   "outputs": [
    {
     "name": "stdout",
     "output_type": "stream",
     "text": [
      "Feature engineering complete. Main DataFrame:\n"
     ]
    },
    {
     "data": {
      "text/html": [
       "<div>\n",
       "<style scoped>\n",
       "    .dataframe tbody tr th:only-of-type {\n",
       "        vertical-align: middle;\n",
       "    }\n",
       "\n",
       "    .dataframe tbody tr th {\n",
       "        vertical-align: top;\n",
       "    }\n",
       "\n",
       "    .dataframe thead th {\n",
       "        text-align: right;\n",
       "    }\n",
       "</style>\n",
       "<table border=\"1\" class=\"dataframe\">\n",
       "  <thead>\n",
       "    <tr style=\"text-align: right;\">\n",
       "      <th></th>\n",
       "      <th>user_id</th>\n",
       "      <th>plan_type</th>\n",
       "      <th>billing_cycle</th>\n",
       "      <th>signup_date</th>\n",
       "      <th>churn</th>\n",
       "      <th>tenure_days</th>\n",
       "      <th>last_event_date</th>\n",
       "      <th>days_since_last_event</th>\n",
       "      <th>total_support_tickets</th>\n",
       "      <th>has_billing_issue</th>\n",
       "    </tr>\n",
       "  </thead>\n",
       "  <tbody>\n",
       "    <tr>\n",
       "      <th>0</th>\n",
       "      <td>1</td>\n",
       "      <td>Basic</td>\n",
       "      <td>Annual</td>\n",
       "      <td>2024-08-25</td>\n",
       "      <td>False</td>\n",
       "      <td>419</td>\n",
       "      <td>2025-10-10</td>\n",
       "      <td>8</td>\n",
       "      <td>0.0</td>\n",
       "      <td>0.0</td>\n",
       "    </tr>\n",
       "    <tr>\n",
       "      <th>1</th>\n",
       "      <td>2</td>\n",
       "      <td>Basic</td>\n",
       "      <td>Monthly</td>\n",
       "      <td>2024-12-23</td>\n",
       "      <td>False</td>\n",
       "      <td>299</td>\n",
       "      <td>2025-10-16</td>\n",
       "      <td>2</td>\n",
       "      <td>0.0</td>\n",
       "      <td>0.0</td>\n",
       "    </tr>\n",
       "    <tr>\n",
       "      <th>2</th>\n",
       "      <td>3</td>\n",
       "      <td>Basic</td>\n",
       "      <td>Monthly</td>\n",
       "      <td>2024-11-11</td>\n",
       "      <td>False</td>\n",
       "      <td>341</td>\n",
       "      <td>2025-09-11</td>\n",
       "      <td>37</td>\n",
       "      <td>1.0</td>\n",
       "      <td>0.0</td>\n",
       "    </tr>\n",
       "    <tr>\n",
       "      <th>3</th>\n",
       "      <td>4</td>\n",
       "      <td>Basic</td>\n",
       "      <td>Annual</td>\n",
       "      <td>2024-11-22</td>\n",
       "      <td>False</td>\n",
       "      <td>330</td>\n",
       "      <td>2025-08-28</td>\n",
       "      <td>51</td>\n",
       "      <td>0.0</td>\n",
       "      <td>0.0</td>\n",
       "    </tr>\n",
       "    <tr>\n",
       "      <th>4</th>\n",
       "      <td>5</td>\n",
       "      <td>Basic</td>\n",
       "      <td>Annual</td>\n",
       "      <td>2024-08-01</td>\n",
       "      <td>False</td>\n",
       "      <td>443</td>\n",
       "      <td>2025-09-29</td>\n",
       "      <td>19</td>\n",
       "      <td>1.0</td>\n",
       "      <td>0.0</td>\n",
       "    </tr>\n",
       "  </tbody>\n",
       "</table>\n",
       "</div>"
      ],
      "text/plain": [
       "   user_id plan_type billing_cycle signup_date  churn  tenure_days  \\\n",
       "0        1     Basic        Annual  2024-08-25  False          419   \n",
       "1        2     Basic       Monthly  2024-12-23  False          299   \n",
       "2        3     Basic       Monthly  2024-11-11  False          341   \n",
       "3        4     Basic        Annual  2024-11-22  False          330   \n",
       "4        5     Basic        Annual  2024-08-01  False          443   \n",
       "\n",
       "  last_event_date  days_since_last_event  total_support_tickets  \\\n",
       "0      2025-10-10                      8                    0.0   \n",
       "1      2025-10-16                      2                    0.0   \n",
       "2      2025-09-11                     37                    1.0   \n",
       "3      2025-08-28                     51                    0.0   \n",
       "4      2025-09-29                     19                    1.0   \n",
       "\n",
       "   has_billing_issue  \n",
       "0                0.0  \n",
       "1                0.0  \n",
       "2                0.0  \n",
       "3                0.0  \n",
       "4                0.0  "
      ]
     },
     "execution_count": 3,
     "metadata": {},
     "output_type": "execute_result"
    }
   ],
   "source": [
    "# 1. Tenure Feature\n",
    "# How long has the user been a customer?\n",
    "df_users['tenure_days'] = (TODAY - df_users['signup_date']).dt.days\n",
    "\n",
    "# 2. Activity Features\n",
    "# Get the most recent event for each user\n",
    "df_last_event = df_events.groupby('user_id')['timestamp'].max().reset_index()\n",
    "df_last_event = df_last_event.rename(columns={'timestamp': 'last_event_date'})\n",
    "\n",
    "# Merge this back into our main df_users\n",
    "df_users = df_users.merge(df_last_event, on='user_id', how='left')\n",
    "\n",
    "# Calculate days since last event\n",
    "df_users['days_since_last_event'] = (TODAY - df_users['last_event_date']).dt.days\n",
    "\n",
    "# 3. Support Ticket Features\n",
    "# Count total tickets for each user\n",
    "df_ticket_counts = df_tickets.groupby('user_id').size().reset_index(name='total_support_tickets')\n",
    "\n",
    "# Flag users with a \"Billing\" issue\n",
    "df_billing_tickets = df_tickets[df_tickets['issue_type'] == 'Billing']\n",
    "df_billing_users = df_billing_tickets.groupby('user_id').size().reset_index(name='billing_tickets')\n",
    "df_billing_users['has_billing_issue'] = 1\n",
    "\n",
    "# Merge ticket features back into df_users\n",
    "df_users = df_users.merge(df_ticket_counts, on='user_id', how='left')\n",
    "df_users = df_users.merge(df_billing_users[['user_id', 'has_billing_issue']], on='user_id', how='left')\n",
    "\n",
    "# --- Handle NaNs ---\n",
    "# Users with 0 tickets or 0 events will have NaNs (Not a Number)\n",
    "# We must fill these so the model can read them.\n",
    "df_users['total_support_tickets'] = df_users['total_support_tickets'].fillna(0)\n",
    "df_users['has_billing_issue'] = df_users['has_billing_issue'].fillna(0)\n",
    "df_users['days_since_last_event'] = df_users['days_since_last_event'].fillna(999) # Fill with a large number\n",
    "\n",
    "print(\"Feature engineering complete. Main DataFrame:\")\n",
    "df_users.head()"
   ]
  },
  {
   "cell_type": "markdown",
   "id": "bde3e708-0a63-4ea2-be10-be7906900f77",
   "metadata": {},
   "source": [
    "### **Step 4: Exploratory Data Analysis (EDA)**\n",
    "\n",
    "Now that we have one clean DataFrame, we can *finally* explore the patterns. This step is crucial for building intuition and confirming our data generation worked."
   ]
  },
  {
   "cell_type": "code",
   "execution_count": 5,
   "id": "e6fba20f-7eb8-4082-9da5-d31a2c3c4ada",
   "metadata": {},
   "outputs": [
    {
     "data": {
      "image/png": "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",
      "text/plain": [
       "<Figure size 1000x600 with 1 Axes>"
      ]
     },
     "metadata": {},
     "output_type": "display_data"
    }
   ],
   "source": [
    "# Set up a nice plot style\n",
    "sns.set_theme(style=\"whitegrid\")\n",
    "\n",
    "# 1. How does \"Days Since Last Event\" affect churn?\n",
    "# This should be our strongest signal!\n",
    "plt.figure(figsize=(10,6))\n",
    "sns.histplot(data = df_users, x = \"days_since_last_event\", hue = \"churn\", multiple=\"stack\", bins=30)\n",
    "plt.title(\"Churn rate by Days since last event\")\n",
    "plt.show()\n",
    "\n",
    "# We should see that the 'churn=1' (blue) bar is almost entirely > 30 days"
   ]
  },
  {
   "cell_type": "code",
   "execution_count": 6,
   "id": "23e3aa25-853a-4824-8a2f-9f8f18186852",
   "metadata": {},
   "outputs": [
    {
     "data": {
      "image/png": "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",
      "text/plain": [
       "<Figure size 800x500 with 1 Axes>"
      ]
     },
     "metadata": {},
     "output_type": "display_data"
    }
   ],
   "source": [
    "# 2. How does \"Billing Issues\" affect churn?\n",
    "plt.figure(figsize=(8, 5))\n",
    "sns.barplot(data=df_users, x='has_billing_issue', y='churn')\n",
    "plt.title('Churn Rate for Users with Billing Issues')\n",
    "plt.xticks([0, 1], ['No Billing Issue', 'Has Billing Issue'])\n",
    "plt.show()\n",
    "# We should see a much higher churn rate for users with billing issues"
   ]
  },
  {
   "cell_type": "code",
   "execution_count": 7,
   "id": "b8f562fa-b299-4221-8683-ebcc048adf2a",
   "metadata": {},
   "outputs": [
    {
     "data": {
      "image/png": "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",
      "text/plain": [
       "<Figure size 1000x600 with 1 Axes>"
      ]
     },
     "metadata": {},
     "output_type": "display_data"
    }
   ],
   "source": [
    "# 3. How does \"Plan Type\" affect churn?\n",
    "plt.figure(figsize=(10, 6))\n",
    "sns.barplot(data=df_users, x='plan_type', y='churn')\n",
    "plt.title('Churn Rate by Plan Type')\n",
    "plt.show()"
   ]
  },
  {
   "cell_type": "markdown",
   "id": "2a810abd-85c7-4351-a77e-f30576bd9ba4",
   "metadata": {},
   "source": [
    "### **Step 5: Create and Save the Final `model_input.csv`**\n",
    "\n",
    "Our `df_users` DataFrame has extra columns we don't need (like dates). Let's select *only* the features our model will use and save this as our final, clean file."
   ]
  },
  {
   "cell_type": "code",
   "execution_count": 8,
   "id": "a3725df9-0066-4020-8ce2-de9c4f1ede92",
   "metadata": {},
   "outputs": [
    {
     "name": "stdout",
     "output_type": "stream",
     "text": [
      "Final model_input.csv saved with 10000 rows.\n"
     ]
    },
    {
     "data": {
      "text/html": [
       "<div>\n",
       "<style scoped>\n",
       "    .dataframe tbody tr th:only-of-type {\n",
       "        vertical-align: middle;\n",
       "    }\n",
       "\n",
       "    .dataframe tbody tr th {\n",
       "        vertical-align: top;\n",
       "    }\n",
       "\n",
       "    .dataframe thead th {\n",
       "        text-align: right;\n",
       "    }\n",
       "</style>\n",
       "<table border=\"1\" class=\"dataframe\">\n",
       "  <thead>\n",
       "    <tr style=\"text-align: right;\">\n",
       "      <th></th>\n",
       "      <th>user_id</th>\n",
       "      <th>tenure_days</th>\n",
       "      <th>days_since_last_event</th>\n",
       "      <th>total_support_tickets</th>\n",
       "      <th>has_billing_issue</th>\n",
       "      <th>plan_type</th>\n",
       "      <th>billing_cycle</th>\n",
       "      <th>churn</th>\n",
       "    </tr>\n",
       "  </thead>\n",
       "  <tbody>\n",
       "    <tr>\n",
       "      <th>0</th>\n",
       "      <td>1</td>\n",
       "      <td>419</td>\n",
       "      <td>8</td>\n",
       "      <td>0.0</td>\n",
       "      <td>0.0</td>\n",
       "      <td>Basic</td>\n",
       "      <td>Annual</td>\n",
       "      <td>False</td>\n",
       "    </tr>\n",
       "    <tr>\n",
       "      <th>1</th>\n",
       "      <td>2</td>\n",
       "      <td>299</td>\n",
       "      <td>2</td>\n",
       "      <td>0.0</td>\n",
       "      <td>0.0</td>\n",
       "      <td>Basic</td>\n",
       "      <td>Monthly</td>\n",
       "      <td>False</td>\n",
       "    </tr>\n",
       "    <tr>\n",
       "      <th>2</th>\n",
       "      <td>3</td>\n",
       "      <td>341</td>\n",
       "      <td>37</td>\n",
       "      <td>1.0</td>\n",
       "      <td>0.0</td>\n",
       "      <td>Basic</td>\n",
       "      <td>Monthly</td>\n",
       "      <td>False</td>\n",
       "    </tr>\n",
       "    <tr>\n",
       "      <th>3</th>\n",
       "      <td>4</td>\n",
       "      <td>330</td>\n",
       "      <td>51</td>\n",
       "      <td>0.0</td>\n",
       "      <td>0.0</td>\n",
       "      <td>Basic</td>\n",
       "      <td>Annual</td>\n",
       "      <td>False</td>\n",
       "    </tr>\n",
       "    <tr>\n",
       "      <th>4</th>\n",
       "      <td>5</td>\n",
       "      <td>443</td>\n",
       "      <td>19</td>\n",
       "      <td>1.0</td>\n",
       "      <td>0.0</td>\n",
       "      <td>Basic</td>\n",
       "      <td>Annual</td>\n",
       "      <td>False</td>\n",
       "    </tr>\n",
       "  </tbody>\n",
       "</table>\n",
       "</div>"
      ],
      "text/plain": [
       "   user_id  tenure_days  days_since_last_event  total_support_tickets  \\\n",
       "0        1          419                      8                    0.0   \n",
       "1        2          299                      2                    0.0   \n",
       "2        3          341                     37                    1.0   \n",
       "3        4          330                     51                    0.0   \n",
       "4        5          443                     19                    1.0   \n",
       "\n",
       "   has_billing_issue plan_type billing_cycle  churn  \n",
       "0                0.0     Basic        Annual  False  \n",
       "1                0.0     Basic       Monthly  False  \n",
       "2                0.0     Basic       Monthly  False  \n",
       "3                0.0     Basic        Annual  False  \n",
       "4                0.0     Basic        Annual  False  "
      ]
     },
     "execution_count": 8,
     "metadata": {},
     "output_type": "execute_result"
    }
   ],
   "source": [
    "# Select only the columns we need for modeling\n",
    "model_features = [\n",
    "    'user_id',\n",
    "    'tenure_days',\n",
    "    'days_since_last_event',\n",
    "    'total_support_tickets',\n",
    "    'has_billing_issue',\n",
    "    'plan_type',\n",
    "    'billing_cycle'\n",
    "]\n",
    "\n",
    "# And our target variable\n",
    "model_target = 'churn'\n",
    "\n",
    "# Create the final DataFrame\n",
    "df_model_input = df_users[model_features + [model_target]]\n",
    "\n",
    "# Save to a new CSV\n",
    "df_model_input.to_csv('data/model_input.csv', index=False)\n",
    "\n",
    "print(f\"Final model_input.csv saved with {len(df_model_input)} rows.\")\n",
    "df_model_input.head()"
   ]
  },
  {
   "cell_type": "markdown",
   "id": "a0b8b799-0d15-4546-9dd3-3fde3589eb8e",
   "metadata": {},
   "source": [
    "### Phase 2 Summary\n",
    "\n",
    "In this phase, **we** successfully transformed our raw data into a clean, model-ready dataset.\n",
    "\n",
    "1.  **Loaded Data:** We loaded our three separate CSV files (`users`, `events`, `tickets`) into pandas DataFrames.\n",
    "2.  **Feature Engineering:** This was the core step. We acted like data detectives, combining the three data sources to create a single row for every user. We engineered new, powerful features like `tenure_days`, `days_since_last_event`, and `has_billing_issue` that our model can understand.\n",
    "3.  **Exploratory Data Analysis (EDA):** We created plots to visually explore our new dataset. This confirmed our hypotheses (e.g., users with high inactivity or billing issues *do* churn more), proving our simulated data is realistic.\n",
    "4.  **Final Dataset:** We saved this final, aggregated table as `data/model_input.csv`. We now have a single, clean file that is perfectly prepared for the next phase: model training."
   ]
  },
  {
   "cell_type": "code",
   "execution_count": null,
   "id": "9a10bc5b-153e-408c-a4a8-001bd356d443",
   "metadata": {},
   "outputs": [],
   "source": []
  }
 ],
 "metadata": {
  "kernelspec": {
   "display_name": "Python 3 (ipykernel)",
   "language": "python",
   "name": "python3"
  },
  "language_info": {
   "codemirror_mode": {
    "name": "ipython",
    "version": 3
   },
   "file_extension": ".py",
   "mimetype": "text/x-python",
   "name": "python",
   "nbconvert_exporter": "python",
   "pygments_lexer": "ipython3",
   "version": "3.12.7"
  }
 },
 "nbformat": 4,
 "nbformat_minor": 5
}
